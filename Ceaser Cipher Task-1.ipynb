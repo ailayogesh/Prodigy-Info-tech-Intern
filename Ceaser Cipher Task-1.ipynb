{
 "cells": [
  {
   "cell_type": "code",
   "execution_count": 5,
   "id": "3dcc0be8",
   "metadata": {},
   "outputs": [
    {
     "name": "stdout",
     "output_type": "stream",
     "text": [
      "Caesar Cipher Encryption and Decryption\n",
      "Enter the message: cybersecurity\n",
      "Enter the shift value: 3\n",
      "Encrypted Text: fbehuvhfxulwb\n",
      "Decrypted Text: cybersecurity\n"
     ]
    }
   ],
   "source": [
    "def caesar_cipher(text, shift, mode='encrypt'): \n",
    "    #Funtion that takes text as input,shift(no of positions each letter in text), mode=encryption or decryption\n",
    "    result = \"\" #empty string that stores the output\n",
    "    \n",
    "    # Ensure the shift is in the range of 0-25\n",
    "    shift = shift % 26\n",
    "\n",
    "    if mode == 'decrypt':# if user select the decrpytion mode \n",
    "        shift = -shift\n",
    "        # if mode=decrypt, shift is negated to shift the letter in the opposite direction\n",
    "\n",
    "    for char in text:# loop that iterates over each character in text\n",
    "        if char.isalpha():# it checks if character is an alphabet letter\n",
    "            shift_base = ord('A') if char.isupper() else ord('a')\n",
    "                        #ord() built-in function that returns the unicode of a character\n",
    "                        # 'A' or 'a' it determines the ASCII value based on whether char is uppercase or lowercase\n",
    "                        # if uppercase --> shift_base is set to 65(ASCII valu of \"A\")\n",
    "                        # if lowercase -->  shift_base is set to 97(ASCII value of \"a\")\n",
    "            shifted_char = chr((ord(char) - shift_base + shift) % 26 + shift_base)\n",
    "                        # ord(char)--> gets the ASCII value of the current character\n",
    "                        # -shift_base --> Normalize the character to a 0-based index('A' becomes 0. 'b becomes 1')\n",
    "                        # +shift-->  adds the shift amount to move the character\n",
    "                        # %26 --> wraps around the result if it goes beyoung 'Z' or 'z'(keeps within the range of 26 letters)\n",
    "            result += shifted_char\n",
    "        else:\n",
    "            result += char\n",
    "\n",
    "    return result\n",
    "\n",
    "def main():\n",
    "    print(\"Caesar Cipher Encryption and Decryption\")\n",
    "    text = input(\"Enter the message: \") # input text to get encrpyted text\n",
    "    shift = int(input(\"Enter the shift value: \"))\n",
    "\n",
    "    encrypted_text = caesar_cipher(text, shift, mode='encrypt')\n",
    "    #object=function(parameters)\n",
    "    print(\"Encrypted Text:\", encrypted_text)\n",
    "\n",
    "    decrypted_text = caesar_cipher(encrypted_text, shift, mode='decrypt')\n",
    "    print(\"Decrypted Text:\", decrypted_text)\n",
    "\n",
    "if __name__== \"__main__\":\n",
    "    main()\n"
   ]
  },
  {
   "cell_type": "code",
   "execution_count": null,
   "id": "94c9d906",
   "metadata": {},
   "outputs": [],
   "source": []
  }
 ],
 "metadata": {
  "kernelspec": {
   "display_name": "Python 3 (ipykernel)",
   "language": "python",
   "name": "python3"
  },
  "language_info": {
   "codemirror_mode": {
    "name": "ipython",
    "version": 3
   },
   "file_extension": ".py",
   "mimetype": "text/x-python",
   "name": "python",
   "nbconvert_exporter": "python",
   "pygments_lexer": "ipython3",
   "version": "3.9.13"
  }
 },
 "nbformat": 4,
 "nbformat_minor": 5
}
